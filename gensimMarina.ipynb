﻿{
 "cells": [
  {
   "cell_type": "code",
   "execution_count": 11,
   "metadata": {},
   "outputs": [
    {
     "data": {
      "text/plain": [
       "(array([  2.,  11.,  26.,  67., 100., 104.,  86.,  68.,  27.,   9.]),\n",
       " array([-3.18536016, -2.60096853, -2.01657689, -1.43218525, -0.84779362,\n",
       "        -0.26340198,  0.32098966,  0.90538129,  1.48977293,  2.07416457,\n",
       "         2.65855621]),\n",
       " <a list of 10 Patch objects>)"
      ]
     },
     "execution_count": 11,
     "metadata": {},
     "output_type": "execute_result"
    },
    {
     "data": {
      "image/png": "[encoded data removed]",
      "text/plain": [
       "<Figure size 432x288 with 1 Axes>"
      ]
     },
     "metadata": {},
     "output_type": "display_data"
    }
   ],
   "source": [
    "\n",
    "import numpy as np\n",
    "\n",
    "x = np.random.randn(500)\n",
    "data = [plt.hist(x=x)]\n",
    "plt.hist(x)"
   ]
  },
  {
   "cell_type": "code",
   "execution_count": 5,
   "metadata": {},
   "outputs": [],
   "source": []
  },
  {
   "cell_type": "code",
   "execution_count": 6,
   "metadata": {},
   "outputs": [],
   "source": [
    "import matplotlib.pyplot as plt        \n",
    "%matplotlib inline \n",
    "import math"
   ]
  },
  {
   "cell_type": "markdown",
   "metadata": {},
   "source": [
    "## Example for using the gensim library for working with word embeddings\n",
    "make sure to install gensim from the instructions on its website first, so it is availabe to python"
   ]
  },
  {
   "cell_type": "code",
   "execution_count": 7,
   "metadata": {},
   "outputs": [],
   "source": [
    "# this will take a minute or two to execute, depending on the speed of your disk and CPU,\n",
    "# it's a very large file for gensim to load and process, but is perfectly normal.\n",
    "# approx. 2GB of memory will be consumed by gensim when it is fully loaded.\n",
    "\n",
    "#word_embeddings_file = '/ssd480/repos/maccabi-nlp-course/wiki.he.bin'\n",
    "word_embeddings_file = 'c:/OpenUniv/Jupiter/model.bin'\n",
    "word_embeddings_fileNotYap = 'c:/OpenUniv/Jupiter/wiki.he.bin'\n",
    "from gensim.models import FastText\n",
    "model = FastText.load_fasttext_format(word_embeddings_file) # add the path to the file, applicable to your environment"
   ]
  },
  {
   "cell_type": "code",
   "execution_count": 8,
   "metadata": {},
   "outputs": [
    {
     "ename": "SyntaxError",
     "evalue": "Missing parentheses in call to 'print'. Did you mean print(\"word_embeddings_file\")? (<ipython-input-8-0c9414a6500a>, line 1)",
     "output_type": "error",
     "traceback": [
      "\u001b[1;36m  File \u001b[1;32m\"<ipython-input-8-0c9414a6500a>\"\u001b[1;36m, line \u001b[1;32m1\u001b[0m\n\u001b[1;33m    print \"word_embeddings_file\"\u001b[0m\n\u001b[1;37m                               ^\u001b[0m\n\u001b[1;31mSyntaxError\u001b[0m\u001b[1;31m:\u001b[0m Missing parentheses in call to 'print'. Did you mean print(\"word_embeddings_file\")?\n"
     ]
    }
   ],
   "source": [
    "print \"word_embeddings_file\""
   ]
  },
  {
   "cell_type": "code",
   "execution_count": null,
   "metadata": {},
   "outputs": [],
   "source": [
    "import itertools\n",
    "import statistics\n",
    "import numpy\n",
    "import random\n",
    "import plotly\n",
    "\n",
    "\n",
    "def similarity_normalize(cosine_distance):\n",
    "    return (cosine_distance+1)/2\n",
    "\n",
    "def normalized_similarity(word1, word2):\n",
    "    return similarity_normalize(model.wv.similarity(word1, word2))\n",
    "\n",
    "def vocab_warn(words, embedding_train_corpus_lexicon):\n",
    "    for word in words:\n",
    "        if not word in model.wv.vocab:\n",
    "            print(\"Warning: word {} is not directly embedded in the model\".format(word))\n",
    "        if embedding_train_corpus_lexicon and embedding_train_corpus_lexicon[word] < 100:\n",
    "            print(\"Warning: word {} had low frequency in the embedding's training corpus\".format(word))\n",
    "\n",
    "def get_joint_similarities(words, verbose=False):\n",
    "    #vocab_warn(words)\n",
    "    distances = []\n",
    "    for pair in itertools.combinations(words, 2):\n",
    "        distance = normalized_similarity(pair[0], pair[1])\n",
    "        if verbose:\n",
    "            print(\"Similarity according to loaded model: {0:.2f} {1} {2}\".format(distance, pair[0], pair[1]))\n",
    "        distances.append(distance)\n",
    "        \n",
    "    return numpy.mean(distances), numpy.var(distances)\n",
    "\n",
    "    "
   ]
  },
  {
   "cell_type": "code",
   "execution_count": null,
   "metadata": {},
   "outputs": [],
   "source": [
    "hebrew_disease_words = [\n",
    "    'צהבת',\n",
    "    'גחלת',\n",
    "    'שפעת',\n",
    "    'שעלת',\n",
    "    'אסטמה',\n",
    "    'רככת',\n",
    "    'שחמת',\n",
    "    'צפדינה',\n",
    "    'סכרת',\n",
    "    'אנמיה',\n",
    "    'מלריה',\n",
    "    'שחפת']\n",
    "\n",
    "hebrew_color_words = [\n",
    "    'לבן',\n",
    "    'צהוב',\n",
    "    'ורוד',\n",
    "    'כחול',\n",
    "    'ירוק',\n",
    "    'סגול',\n",
    "    'שחור',\n",
    "    'כתום',\n",
    "    'אדום',\n",
    "    'חום',\n",
    "    'אפור'\n",
    "]\n",
    "sport_words=[\n",
    "'קַשׁתוּת',\n",
    "'זִירָה',\n",
    "'חֵץ',\n",
    "'אַתלֵ',\n",
    "'אַתלֵטִיקָה',\n",
    "'אקסל',\n",
    "'נוצית',\n",
    "'כַּדוּר',\n",
    "'בסיס',\n",
    "'בייסבול',\n",
    "'כדורסל',\n",
    "'עטל',\n",
    "'שַׁרבִּיט',\n",
    "'חמאה',\n",
    "'להכות',\n",
    "'ביאתלון'\n",
    "'אופניים'\n",
    "'בִּילְיַארד'\n",
    "'בובסלי',\n",
    "'בּוּמֵרַנְג',\n",
    "'קשת',\n",
    "'בָּאוּלֵר',\n",
    "'ccבָּאוּלִינְג',\n",
    "'מִתאַגרֵף',\n",
    "'אִגרוּף'\n",
    "]\n",
    "\n",
    "def print_joint_similarities(words, group_name, print_words=False):\n",
    "    print()\n",
    "    print(group_name)\n",
    "    if print_words:\n",
    "        print(words)\n",
    "    print(get_joint_similarities(words))\n",
    "    print()\n",
    "\n",
    "#lexicon = {word: frequency for word, frequency in lexicon2.lexicon.items() if word in model.wv.vocab and frequency>100}\n",
    "#randomly_chosen_words = random.sample(list(lexicon), 20)  \n",
    "    \n",
    "print(\"a kind of cluster similarity score report\")\n",
    "print(\"-----------------------------------------\\n\")\n",
    "\n",
    "print_joint_similarities(hebrew_disease_words, \"hebrew disease words\")\n",
    "print_joint_similarities(hebrew_color_words, \"hebrew color words\")\n",
    "print_joint_similarities(randomly_chosen_words, \"randomly chosen hebrew words\", print_words=True)\n"
   ]
  },
  {
   "cell_type": "code",
   "execution_count": null,
   "metadata": {},
   "outputs": [],
   "source": []
  }
 ],
 "metadata": {
  "kernelspec": {
   "display_name": "Python 2",
   "language": "python",
   "name": "python2"
  },
  "language_info": {
   "codemirror_mode": {
    "name": "ipython",
    "version": 2
   },
   "file_extension": ".py",
   "mimetype": "text/x-python",
   "name": "python",
   "nbconvert_exporter": "python",
   "pygments_lexer": "ipython2",
   "version": "2.7.15"
  }
 },
 "nbformat": 4,
 "nbformat_minor": 2
}
