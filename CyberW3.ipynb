{
  "nbformat": 4,
  "nbformat_minor": 0,
  "metadata": {
    "colab": {
      "provenance": [],
      "mount_file_id": "1KfaY8i6kMOwMtQGTyQfIGN1R4cRCnTKX",
      "authorship_tag": "ABX9TyNnEXL8ZCB6AqNTstklATQT",
      "include_colab_link": true
    },
    "kernelspec": {
      "name": "python3",
      "display_name": "Python 3"
    },
    "language_info": {
      "name": "python"
    }
  },
  "cells": [
    {
      "cell_type": "markdown",
      "metadata": {
        "id": "view-in-github",
        "colab_type": "text"
      },
      "source": [
        "<a href=\"https://colab.research.google.com/github/ronybot/NLP_HebrewEmbeding/blob/master/CyberW3.ipynb\" target=\"_parent\"><img src=\"https://colab.research.google.com/assets/colab-badge.svg\" alt=\"Open In Colab\"/></a>"
      ]
    },
    {
      "cell_type": "code",
      "execution_count": 2,
      "metadata": {
        "id": "mxDrPOGSbVbS"
      },
      "outputs": [],
      "source": [
        "import tensorflow as tf\n",
        "import numpy as np\n",
        "from tensorflow.keras.applications.resnet50 import ResNet50\n",
        "base_model = tf.keras.applications.ResNet50(weights='imagenet', include_top=False, pooling='avg')\n",
        "model = ResNet50(weights='imagenet', include_top=False)\n",
        "class image_processing():\n",
        "\n",
        "\n",
        "    def _ensure_three_channels(self, img):\n",
        "        \"\"\"\n",
        "        Ensures that the input image has 3 channels. If the image has less than 3 channels,\n",
        "        it will replicate the existing channels to make it 3 channels.\n",
        "\n",
        "        Args:\n",
        "        - img (numpy.ndarray): Input image.\n",
        "\n",
        "        Returns:\n",
        "        - numpy.ndarray: Image with 3 channels.\n",
        "        \"\"\"\n",
        "\n",
        "        # Check if the image is grayscale (2D array) or has only one channel\n",
        "        if len(img.shape) == 2 or img.shape[2] == 1:\n",
        "            return np.repeat(img[..., np.newaxis], 3, axis=-1)\n",
        "        return img\n",
        "    def preprocess_image(self, img_original, target_size=(224, 224)):\n",
        "        img_original = img_original.resize(target_size)\n",
        "        # Convert image to array\n",
        "        img_array = tf.keras.preprocessing.image.img_to_array(img_original)\n",
        "\n",
        "        # Check if the image has 4 channels (RGBA) and if so, remove the alpha channel\n",
        "        if img_array.shape[-1] == 4:\n",
        "            img_array = img_array[:, :, :3]\n",
        "        else:\n",
        "            img_array = self._ensure_three_channels(img_array)\n",
        "\n",
        "        # Expand dimensions to match model's expected input shape\n",
        "        image_batch = np.expand_dims(img_array, axis=0)\n",
        "\n",
        "\n",
        "        # Use ResNet50's preprocessing function\n",
        "        data = tf.keras.applications.resnet50.preprocess_input(image_batch)\n",
        "        return data\n",
        "\n",
        "    def extract_features(self,img_array):\n",
        "        return base_model.predict(img_array)"
      ]
    },
    {
      "cell_type": "code",
      "source": [
        "pip install cairosvg\n"
      ],
      "metadata": {
        "colab": {
          "base_uri": "https://localhost:8080/"
        },
        "id": "Ez3lpbiLlerH",
        "outputId": "5a5eb46d-d9b0-4a74-e7b5-bff3f78f6293"
      },
      "execution_count": 3,
      "outputs": [
        {
          "output_type": "stream",
          "name": "stdout",
          "text": [
            "Requirement already satisfied: cairosvg in /usr/local/lib/python3.10/dist-packages (2.7.1)\n",
            "Requirement already satisfied: cairocffi in /usr/local/lib/python3.10/dist-packages (from cairosvg) (1.6.1)\n",
            "Requirement already satisfied: cssselect2 in /usr/local/lib/python3.10/dist-packages (from cairosvg) (0.7.0)\n",
            "Requirement already satisfied: defusedxml in /usr/local/lib/python3.10/dist-packages (from cairosvg) (0.7.1)\n",
            "Requirement already satisfied: pillow in /usr/local/lib/python3.10/dist-packages (from cairosvg) (9.4.0)\n",
            "Requirement already satisfied: tinycss2 in /usr/local/lib/python3.10/dist-packages (from cairosvg) (1.2.1)\n",
            "Requirement already satisfied: cffi>=1.1.0 in /usr/local/lib/python3.10/dist-packages (from cairocffi->cairosvg) (1.16.0)\n",
            "Requirement already satisfied: webencodings in /usr/local/lib/python3.10/dist-packages (from cssselect2->cairosvg) (0.5.1)\n",
            "Requirement already satisfied: pycparser in /usr/local/lib/python3.10/dist-packages (from cffi>=1.1.0->cairocffi->cairosvg) (2.21)\n"
          ]
        }
      ]
    },
    {
      "cell_type": "code",
      "source": [
        "\n",
        "pip install boto3"
      ],
      "metadata": {
        "colab": {
          "base_uri": "https://localhost:8080/"
        },
        "id": "LN2b3eI_lxRt",
        "outputId": "70a331a3-9e31-4bfe-9e87-2ab356145468"
      },
      "execution_count": 4,
      "outputs": [
        {
          "output_type": "stream",
          "name": "stdout",
          "text": [
            "Requirement already satisfied: boto3 in /usr/local/lib/python3.10/dist-packages (1.34.71)\n",
            "Requirement already satisfied: botocore<1.35.0,>=1.34.71 in /usr/local/lib/python3.10/dist-packages (from boto3) (1.34.71)\n",
            "Requirement already satisfied: jmespath<2.0.0,>=0.7.1 in /usr/local/lib/python3.10/dist-packages (from boto3) (1.0.1)\n",
            "Requirement already satisfied: s3transfer<0.11.0,>=0.10.0 in /usr/local/lib/python3.10/dist-packages (from boto3) (0.10.1)\n",
            "Requirement already satisfied: python-dateutil<3.0.0,>=2.1 in /usr/local/lib/python3.10/dist-packages (from botocore<1.35.0,>=1.34.71->boto3) (2.8.2)\n",
            "Requirement already satisfied: urllib3!=2.2.0,<3,>=1.25.4 in /usr/local/lib/python3.10/dist-packages (from botocore<1.35.0,>=1.34.71->boto3) (2.0.7)\n",
            "Requirement already satisfied: six>=1.5 in /usr/local/lib/python3.10/dist-packages (from python-dateutil<3.0.0,>=2.1->botocore<1.35.0,>=1.34.71->boto3) (1.16.0)\n"
          ]
        }
      ]
    },
    {
      "cell_type": "code",
      "source": [
        "pip install retrying"
      ],
      "metadata": {
        "colab": {
          "base_uri": "https://localhost:8080/"
        },
        "id": "mLdPlkWVmEYk",
        "outputId": "7a60a730-aec0-4b47-8870-aba89dbeb80e"
      },
      "execution_count": 5,
      "outputs": [
        {
          "output_type": "stream",
          "name": "stdout",
          "text": [
            "Requirement already satisfied: retrying in /usr/local/lib/python3.10/dist-packages (1.3.4)\n",
            "Requirement already satisfied: six>=1.7.0 in /usr/local/lib/python3.10/dist-packages (from retrying) (1.16.0)\n"
          ]
        }
      ]
    },
    {
      "cell_type": "code",
      "source": [
        "from PIL import Image\n",
        "from io import BytesIO\n",
        "import requests\n",
        "import cairosvg\n",
        "import xml.etree.ElementTree as ET\n",
        "import boto3\n",
        "import hashlib\n",
        "from botocore.exceptions import ClientError\n",
        "import aiohttp\n",
        "import asyncio\n",
        "from retrying import retry\n",
        "import re\n",
        "import base64\n",
        "import time\n",
        "import threading\n",
        "import pickle\n",
        "import io\n",
        "\n",
        "\n",
        "\n",
        "# Global variable to be shared across threads\n",
        "\n",
        "\n",
        "public_gatway = ['dweb.link','ipfs.io','cf-ipfs.com','gateway.pinata.cloud','cloudflare-ipfs.com']\n",
        "SVG_TYPE = 'image/svg+xml'\n",
        "GIF_TYPE = 'image/gif'\n",
        "TEXT_TYPE = 'text/'\n",
        "MP4_TYPE = 'video/mp4'\n",
        "\n",
        "class image_download_manager:\n",
        "    def __init__(self):\n",
        "        self.base46_svg_pattern = re.compile(r'^data:image/svg+xml;base64')\n",
        "        self.base46_str_svg_pattern = 'data:image/svg+xml;base64'\n",
        "        self.base46_str_svg_pattern = 'data:image/svg+xml;base64'\n",
        "        self.utf8_str_svg_pattern ='data:image/svg+xml;utf8'\n",
        "\n",
        "    def _hash_url(self,url):\n",
        "        # Create a new SHA-256 hash object\n",
        "        sha256 = hashlib.sha256()\n",
        "\n",
        "        # Update the hash object with the URL bytes\n",
        "        sha256.update(url.encode('utf-8'))\n",
        "\n",
        "        # Get the hexadecimal representation of the hash\n",
        "        hashed_url = sha256.hexdigest()\n",
        "\n",
        "        return hashed_url\n",
        "    def _is_svg(self, content):\n",
        "        \"\"\"\n",
        "        Check if the given content or file is in SVG format.\n",
        "        \"\"\"\n",
        "        if isinstance(content, bytes):\n",
        "            # Check if the content starts with '<?xml' (XML declaration)\n",
        "            return content.startswith(b'<?xml') and b'svg' in content.lower()\n",
        "        elif isinstance(content, str):\n",
        "            # Check if the content starts with '<?xml' (XML declaration)\n",
        "            return content.startswith('<?xml') and 'svg' in content.lower()\n",
        "        else:\n",
        "            return False  # Unsupported content type\n",
        "    def _is_svg_content(self, content):\n",
        "        try:\n",
        "            root = ET.fromstring(content)\n",
        "            return root.tag.lower() == \"{http://www.w3.org/2000/svg}svg\"\n",
        "        except ET.ParseError:\n",
        "            return False\n",
        "\n",
        "    async def _fetch_data(self, url):\n",
        "        # match = self.base46_svg_pattern.match(url)\n",
        "        match = url.startswith(self.base46_str_svg_pattern) | url.startswith(self.utf8_str_svg_pattern)\n",
        "        # encoded_data= None\n",
        "        if match:\n",
        "            data_index = url.find(',')\n",
        "            if(data_index != -1):\n",
        "                _data = url[data_index + 1:]\n",
        "                img_content = _data if url.startswith(self.utf8_str_svg_pattern) else base64.b64decode(_data)\n",
        "                im = Image.open(BytesIO(cairosvg.svg2png(img_content)))\n",
        "                # encoded_data = match.group(1)\n",
        "                # encoded_data =base64.b64decode(encoded_data, validate=True)\n",
        "                return (im, 200, SVG_TYPE)\n",
        "\n",
        "            return (None, 500, None)\n",
        "        _start = time.time()\n",
        "        timeout = aiohttp.ClientTimeout(total=15)\n",
        "        async with aiohttp.ClientSession(timeout=timeout) as session:\n",
        "            async with session.get(url) as response:\n",
        "                _end = time.time()\n",
        "\n",
        "                content = await response.read()\n",
        "                if  response.content_type.startswith(TEXT_TYPE) or response.content_type == MP4_TYPE:\n",
        "                    return (None, 500, response.content_type)\n",
        "                im = Image.open(BytesIO(cairosvg.svg2png(file_obj=BytesIO(content)))) if response.content_type == SVG_TYPE else Image.open(BytesIO(content))\n",
        "                return (im, response.status, response.content_type)\n",
        "\n",
        "    async def _download_image_management(self, image_url):\n",
        "        url=''\n",
        "        if image_url.startswith('ipfs://'):\n",
        "            for gatway in public_gatway:\n",
        "                url = image_url.replace('ipfs://', f'https://{gatway}/ipfs/')\n",
        "                try:\n",
        "                    content, status, contentType = await self._fetch_data(url)\n",
        "                    if status == 200:\n",
        "                        return content, contentType\n",
        "                except Exception as err:\n",
        "                    print(\"An error occurred while downloading IPFS image_url \" + image_url + \" \" +type(err).__name__  )\n",
        "                await asyncio.sleep(10)\n",
        "\n",
        "\n",
        "            return None, None\n",
        "        try:\n",
        "            _content, _status, _contentType = await self._fetch_data(image_url)\n",
        "            if _status == 200:\n",
        "                return _content, _contentType\n",
        "            else:\n",
        "                return None, None\n",
        "        except Exception as err:\n",
        "\n",
        "            return None, None\n",
        "\n",
        "    def gif_to_images(self, gif_img: Image, frame_index=0):\n",
        "    # Open the GIF file\n",
        "        with gif_img as img:\n",
        "            # Ensure the requested frame index is within the valid range\n",
        "            frame_index = min(max(frame_index, 0), img.n_frames - 1)\n",
        "\n",
        "            # Set the current frame to the requested frame\n",
        "            img.seek(frame_index)\n",
        "\n",
        "            # Convert the frame to RGB mode (optional, depending on your needs)\n",
        "            rgb_frame = img.convert(\"RGB\")\n",
        "\n",
        "            # Return the RGB frame as a PIL Image\n",
        "            return rgb_frame\n",
        "\n",
        "\n",
        "    @retry(stop_max_attempt_number=3, wait_exponential_multiplier=1000, wait_exponential_max=60000)  # Max 1 minute between retries\n",
        "    async def download_image(self,image_url, cache):\n",
        "      try:\n",
        "          img, contentType = await self._download_image_management(image_url)\n",
        "          if img is None:\n",
        "              return None\n",
        "          if contentType == GIF_TYPE:\n",
        "              img = self.gif_to_images(img)\n",
        "          return img\n",
        "\n",
        "      except Exception as err:\n",
        "\n",
        "             return None\n",
        "\n",
        "\n"
      ],
      "metadata": {
        "id": "1US4LraDjRUn"
      },
      "execution_count": 6,
      "outputs": []
    },
    {
      "cell_type": "code",
      "source": [],
      "metadata": {
        "id": "9ULkOH-clUNj"
      },
      "execution_count": null,
      "outputs": []
    },
    {
      "cell_type": "code",
      "source": [
        "import asyncio\n",
        "import numpy as np\n",
        "import tensorflow as tf\n",
        "from sklearn.metrics.pairwise import cosine_similarity\n",
        "import requests\n",
        "from io import BytesIO\n",
        "from PIL import Image\n",
        "from PIL import Image\n",
        "\n",
        "\n",
        "import csv"
      ],
      "metadata": {
        "id": "J07poz6zcm1-"
      },
      "execution_count": 7,
      "outputs": []
    },
    {
      "cell_type": "markdown",
      "source": [
        "# New section"
      ],
      "metadata": {
        "id": "vozCBMorjb_a"
      }
    },
    {
      "cell_type": "code",
      "source": [
        "import asyncio\n",
        "import numpy as np\n",
        "import tensorflow as tf\n",
        "from sklearn.metrics.pairwise import cosine_similarity\n",
        "import requests\n",
        "from io import BytesIO\n",
        "from PIL import Image\n",
        "from PIL import Image\n",
        "import asyncio\n",
        "import matplotlib.pyplot as plt\n",
        "import matplotlib.image as mpimg\n",
        "import matplotlib.pyplot as plt\n",
        "import matplotlib.image as mpimg\n",
        "import csv\n",
        "import cv2\n",
        "import os\n",
        "\n",
        "def print_image(content):\n",
        "\n",
        "  plt.imshow(content)\n",
        "  plt.axis('off')  # Turn off axis\n",
        "  plt.show()\n",
        "\n",
        "async def get_image_similarity_by_urls_compare(protected_file, suspected_fraud_file, print_image):\n",
        "\n",
        "            plt.subplot(1, 3, 1)\n",
        "            image_path =os.path.join(\"/content/drive/My Drive/fake_nfts/\", protected_file)\n",
        "            suspected_image_path =os.path.join(\"/content/drive/My Drive/fake_nfts/\", suspected_fraud_file)\n",
        "\n",
        "            protected_image =Image.open(image_path)\n",
        "            image_processor= image_processing()\n",
        "\n",
        "            if print_image == True:\n",
        "              print_image(protected_image)\n",
        "\n",
        "            img_protected = image_processor.preprocess_image(protected_image)\n",
        "            features_protected = image_processor.extract_features(img_protected)\n",
        "\n",
        "            plt.subplot(1, 3, 2)\n",
        "            storedNftimg1_url_content  =Image.open(suspected_image_path)\n",
        "            if print_image == True:\n",
        "              print_image(storedNftimg1_url_content)\n",
        "            img1 = image_processor.preprocess_image(storedNftimg1_url_content)\n",
        "            suspected_fraud_features = image_processor.extract_features(img1)\n",
        "\n",
        "\n",
        "\n",
        "\n",
        "            similarity = cosine_similarity(suspected_fraud_features, features_protected)\n",
        "            if similarity is None or len(similarity) == 0:\n",
        "\n",
        "                return None\n",
        "            if similarity[0] is None or len(similarity[0]) == 0:\n",
        "                return None\n",
        "            return similarity[0][0]\n",
        "\n"
      ],
      "metadata": {
        "id": "PIT3opEWjtd5"
      },
      "execution_count": 8,
      "outputs": []
    },
    {
      "cell_type": "code",
      "source": [
        "from matplotlib import pyplot as plt\n",
        "\n",
        "async def main():\n",
        "\n",
        "    # good\n",
        "\n",
        "\n",
        "    dataset = \"/content/drive/My Drive/fake_nfts/resnet50-dataset.csv\"\n",
        "    iteration =1\n",
        "    fig, axs = plt.subplots(2)\n",
        "    columns = 2\n",
        "    i =0\n",
        "    with open(dataset, 'r', newline='') as csvfile:\n",
        "                csv_reader = csv.DictReader(csvfile)\n",
        "                for row in csv_reader:\n",
        "\n",
        "                  if row.get('same IMAGE URL') == \"#VALUE!\" and row.get('apply_method') == \"grayscale\" :\n",
        "                    iteration +=1\n",
        "                    if iteration > 20:\n",
        "                      break\n",
        "                    file_orig = row.get('Image2_file')\n",
        "                    file_fruad = row.get('Image1_file')\n",
        "                    image_similarity_score_expected = row.get('image_similarity_score')\n",
        "\n",
        "                    similarity = await get_image_similarity_by_urls_compare(file_orig, file_fruad,False)\n",
        "                    #print(\"Cosine similarity between the two images: \" +str(float(similarity)))\n",
        "                    diff =abs(float(similarity) - float(image_similarity_score_expected))\n",
        "\n",
        "\n",
        "                    #print (f\" {diff}   file_orig: {file_orig} file_fruad: {file_fruad} similarity: {similarity }  image_similarity_score_expected: {image_similarity_score_expected}   \")\n",
        "                    if  diff > 0.02:\n",
        "                      print (f\" {diff}   file_orig: {file_orig} file_fruad: {file_fruad} similarity: {similarity }  image_similarity_score_expected: {image_similarity_score_expected}   \")\n",
        "\n",
        "                      #axs[0].plot(20 / columns + 1, columns, i + 1)\n",
        "                      #plt.imshow(cv2.imread((os.path.join(\"/content/drive/My Drive/fake_nfts/\", file_orig))))\n",
        "\n",
        "                      #axs[1].plot(20 / columns + 1, columns, i + 1)\n",
        "                      #plt.imshow(cv2.imread((os.path.join(\"/content/drive/My Drive/fake_nfts/\", file_fruad))))\n",
        "\n",
        "\n",
        "\n",
        "\n",
        "loop = asyncio.get_running_loop()\n",
        "await loop.create_task(main())"
      ],
      "metadata": {
        "colab": {
          "base_uri": "https://localhost:8080/",
          "height": 1000
        },
        "id": "p6AHOkGfpKmN",
        "outputId": "7bbe2ed2-6be1-4b4c-8543-4963f5ead84a"
      },
      "execution_count": 37,
      "outputs": [
        {
          "output_type": "stream",
          "name": "stderr",
          "text": [
            "<ipython-input-8-da93dc054bb5>:26: MatplotlibDeprecationWarning: Auto-removal of overlapping axes is deprecated since 3.6 and will be removed two minor releases later; explicitly call ax.remove() as needed.\n",
            "  plt.subplot(1, 3, 1)\n"
          ]
        },
        {
          "output_type": "error",
          "ename": "InvalidArgumentError",
          "evalue": "Graph execution error:\n\nDetected at node resnet50/conv1_pad/Pad defined at (most recent call last):\n  File \"/usr/lib/python3.10/runpy.py\", line 196, in _run_module_as_main\n\n  File \"/usr/lib/python3.10/runpy.py\", line 86, in _run_code\n\n  File \"/usr/local/lib/python3.10/dist-packages/colab_kernel_launcher.py\", line 37, in <module>\n\n  File \"/usr/local/lib/python3.10/dist-packages/traitlets/config/application.py\", line 992, in launch_instance\n\n  File \"/usr/local/lib/python3.10/dist-packages/ipykernel/kernelapp.py\", line 619, in start\n\n  File \"/usr/local/lib/python3.10/dist-packages/tornado/platform/asyncio.py\", line 195, in start\n\n  File \"/usr/lib/python3.10/asyncio/base_events.py\", line 603, in run_forever\n\n  File \"/usr/lib/python3.10/asyncio/base_events.py\", line 1909, in _run_once\n\n  File \"/usr/lib/python3.10/asyncio/events.py\", line 80, in _run\n\n  File \"<ipython-input-35-3d12709c5dbc>\", line 25, in main\n\n  File \"<ipython-input-8-da93dc054bb5>\", line 37, in get_image_similarity_by_urls_compare\n\n  File \"<ipython-input-2-6317a06bfa54>\", line 45, in extract_features\n\n  File \"/usr/local/lib/python3.10/dist-packages/keras/src/utils/traceback_utils.py\", line 65, in error_handler\n\n  File \"/usr/local/lib/python3.10/dist-packages/keras/src/engine/training.py\", line 2655, in predict\n\n  File \"/usr/local/lib/python3.10/dist-packages/keras/src/engine/training.py\", line 2440, in predict_function\n\n  File \"/usr/local/lib/python3.10/dist-packages/keras/src/engine/training.py\", line 2425, in step_function\n\n  File \"/usr/local/lib/python3.10/dist-packages/keras/src/engine/training.py\", line 2413, in run_step\n\n  File \"/usr/local/lib/python3.10/dist-packages/keras/src/engine/training.py\", line 2381, in predict_step\n\n  File \"/usr/local/lib/python3.10/dist-packages/keras/src/utils/traceback_utils.py\", line 65, in error_handler\n\n  File \"/usr/local/lib/python3.10/dist-packages/keras/src/engine/training.py\", line 590, in __call__\n\n  File \"/usr/local/lib/python3.10/dist-packages/keras/src/utils/traceback_utils.py\", line 65, in error_handler\n\n  File \"/usr/local/lib/python3.10/dist-packages/keras/src/engine/base_layer.py\", line 1149, in __call__\n\n  File \"/usr/local/lib/python3.10/dist-packages/keras/src/utils/traceback_utils.py\", line 96, in error_handler\n\n  File \"/usr/local/lib/python3.10/dist-packages/keras/src/engine/functional.py\", line 515, in call\n\n  File \"/usr/local/lib/python3.10/dist-packages/keras/src/engine/functional.py\", line 672, in _run_internal_graph\n\n  File \"/usr/local/lib/python3.10/dist-packages/keras/src/utils/traceback_utils.py\", line 65, in error_handler\n\n  File \"/usr/local/lib/python3.10/dist-packages/keras/src/engine/base_layer.py\", line 1149, in __call__\n\n  File \"/usr/local/lib/python3.10/dist-packages/keras/src/utils/traceback_utils.py\", line 96, in error_handler\n\n  File \"/usr/local/lib/python3.10/dist-packages/keras/src/layers/reshaping/zero_padding2d.py\", line 149, in call\n\n  File \"/usr/local/lib/python3.10/dist-packages/keras/src/backend.py\", line 4039, in spatial_2d_padding\n\nThe first dimension of paddings must be the rank of inputs[4,2] [1,224,224,1,3]\n\t [[{{node resnet50/conv1_pad/Pad}}]] [Op:__inference_predict_function_118157]",
          "traceback": [
            "\u001b[0;31m---------------------------------------------------------------------------\u001b[0m",
            "\u001b[0;31mInvalidArgumentError\u001b[0m                      Traceback (most recent call last)",
            "\u001b[0;32m<ipython-input-37-3d12709c5dbc>\u001b[0m in \u001b[0;36m<cell line: 44>\u001b[0;34m()\u001b[0m\n\u001b[1;32m     42\u001b[0m \u001b[0;34m\u001b[0m\u001b[0m\n\u001b[1;32m     43\u001b[0m \u001b[0mloop\u001b[0m \u001b[0;34m=\u001b[0m \u001b[0masyncio\u001b[0m\u001b[0;34m.\u001b[0m\u001b[0mget_running_loop\u001b[0m\u001b[0;34m(\u001b[0m\u001b[0;34m)\u001b[0m\u001b[0;34m\u001b[0m\u001b[0;34m\u001b[0m\u001b[0m\n\u001b[0;32m---> 44\u001b[0;31m \u001b[0;32mawait\u001b[0m \u001b[0mloop\u001b[0m\u001b[0;34m.\u001b[0m\u001b[0mcreate_task\u001b[0m\u001b[0;34m(\u001b[0m\u001b[0mmain\u001b[0m\u001b[0;34m(\u001b[0m\u001b[0;34m)\u001b[0m\u001b[0;34m)\u001b[0m\u001b[0;34m\u001b[0m\u001b[0;34m\u001b[0m\u001b[0m\n\u001b[0m",
            "\u001b[0;32m<ipython-input-37-3d12709c5dbc>\u001b[0m in \u001b[0;36mmain\u001b[0;34m()\u001b[0m\n\u001b[1;32m     23\u001b[0m                     \u001b[0mimage_similarity_score_expected\u001b[0m \u001b[0;34m=\u001b[0m \u001b[0mrow\u001b[0m\u001b[0;34m.\u001b[0m\u001b[0mget\u001b[0m\u001b[0;34m(\u001b[0m\u001b[0;34m'image_similarity_score'\u001b[0m\u001b[0;34m)\u001b[0m\u001b[0;34m\u001b[0m\u001b[0;34m\u001b[0m\u001b[0m\n\u001b[1;32m     24\u001b[0m \u001b[0;34m\u001b[0m\u001b[0m\n\u001b[0;32m---> 25\u001b[0;31m                     \u001b[0msimilarity\u001b[0m \u001b[0;34m=\u001b[0m \u001b[0;32mawait\u001b[0m \u001b[0mget_image_similarity_by_urls_compare\u001b[0m\u001b[0;34m(\u001b[0m\u001b[0mfile_orig\u001b[0m\u001b[0;34m,\u001b[0m \u001b[0mfile_fruad\u001b[0m\u001b[0;34m,\u001b[0m\u001b[0;32mFalse\u001b[0m\u001b[0;34m)\u001b[0m\u001b[0;34m\u001b[0m\u001b[0;34m\u001b[0m\u001b[0m\n\u001b[0m\u001b[1;32m     26\u001b[0m                     \u001b[0;31m#print(\"Cosine similarity between the two images: \" +str(float(similarity)))\u001b[0m\u001b[0;34m\u001b[0m\u001b[0;34m\u001b[0m\u001b[0m\n\u001b[1;32m     27\u001b[0m                     \u001b[0mdiff\u001b[0m \u001b[0;34m=\u001b[0m\u001b[0mabs\u001b[0m\u001b[0;34m(\u001b[0m\u001b[0mfloat\u001b[0m\u001b[0;34m(\u001b[0m\u001b[0msimilarity\u001b[0m\u001b[0;34m)\u001b[0m \u001b[0;34m-\u001b[0m \u001b[0mfloat\u001b[0m\u001b[0;34m(\u001b[0m\u001b[0mimage_similarity_score_expected\u001b[0m\u001b[0;34m)\u001b[0m\u001b[0;34m)\u001b[0m\u001b[0;34m\u001b[0m\u001b[0;34m\u001b[0m\u001b[0m\n",
            "\u001b[0;32m<ipython-input-8-da93dc054bb5>\u001b[0m in \u001b[0;36mget_image_similarity_by_urls_compare\u001b[0;34m(protected_file, suspected_fraud_file, print_image)\u001b[0m\n\u001b[1;32m     35\u001b[0m \u001b[0;34m\u001b[0m\u001b[0m\n\u001b[1;32m     36\u001b[0m             \u001b[0mimg_protected\u001b[0m \u001b[0;34m=\u001b[0m \u001b[0mimage_processor\u001b[0m\u001b[0;34m.\u001b[0m\u001b[0mpreprocess_image\u001b[0m\u001b[0;34m(\u001b[0m\u001b[0mprotected_image\u001b[0m\u001b[0;34m)\u001b[0m\u001b[0;34m\u001b[0m\u001b[0;34m\u001b[0m\u001b[0m\n\u001b[0;32m---> 37\u001b[0;31m             \u001b[0mfeatures_protected\u001b[0m \u001b[0;34m=\u001b[0m \u001b[0mimage_processor\u001b[0m\u001b[0;34m.\u001b[0m\u001b[0mextract_features\u001b[0m\u001b[0;34m(\u001b[0m\u001b[0mimg_protected\u001b[0m\u001b[0;34m)\u001b[0m\u001b[0;34m\u001b[0m\u001b[0;34m\u001b[0m\u001b[0m\n\u001b[0m\u001b[1;32m     38\u001b[0m \u001b[0;34m\u001b[0m\u001b[0m\n\u001b[1;32m     39\u001b[0m             \u001b[0mplt\u001b[0m\u001b[0;34m.\u001b[0m\u001b[0msubplot\u001b[0m\u001b[0;34m(\u001b[0m\u001b[0;36m1\u001b[0m\u001b[0;34m,\u001b[0m \u001b[0;36m3\u001b[0m\u001b[0;34m,\u001b[0m \u001b[0;36m2\u001b[0m\u001b[0;34m)\u001b[0m\u001b[0;34m\u001b[0m\u001b[0;34m\u001b[0m\u001b[0m\n",
            "\u001b[0;32m<ipython-input-2-6317a06bfa54>\u001b[0m in \u001b[0;36mextract_features\u001b[0;34m(self, img_array)\u001b[0m\n\u001b[1;32m     43\u001b[0m \u001b[0;34m\u001b[0m\u001b[0m\n\u001b[1;32m     44\u001b[0m     \u001b[0;32mdef\u001b[0m \u001b[0mextract_features\u001b[0m\u001b[0;34m(\u001b[0m\u001b[0mself\u001b[0m\u001b[0;34m,\u001b[0m\u001b[0mimg_array\u001b[0m\u001b[0;34m)\u001b[0m\u001b[0;34m:\u001b[0m\u001b[0;34m\u001b[0m\u001b[0;34m\u001b[0m\u001b[0m\n\u001b[0;32m---> 45\u001b[0;31m         \u001b[0;32mreturn\u001b[0m \u001b[0mbase_model\u001b[0m\u001b[0;34m.\u001b[0m\u001b[0mpredict\u001b[0m\u001b[0;34m(\u001b[0m\u001b[0mimg_array\u001b[0m\u001b[0;34m)\u001b[0m\u001b[0;34m\u001b[0m\u001b[0;34m\u001b[0m\u001b[0m\n\u001b[0m",
            "\u001b[0;32m/usr/local/lib/python3.10/dist-packages/keras/src/utils/traceback_utils.py\u001b[0m in \u001b[0;36merror_handler\u001b[0;34m(*args, **kwargs)\u001b[0m\n\u001b[1;32m     68\u001b[0m             \u001b[0;31m# To get the full stack trace, call:\u001b[0m\u001b[0;34m\u001b[0m\u001b[0;34m\u001b[0m\u001b[0m\n\u001b[1;32m     69\u001b[0m             \u001b[0;31m# `tf.debugging.disable_traceback_filtering()`\u001b[0m\u001b[0;34m\u001b[0m\u001b[0;34m\u001b[0m\u001b[0m\n\u001b[0;32m---> 70\u001b[0;31m             \u001b[0;32mraise\u001b[0m \u001b[0me\u001b[0m\u001b[0;34m.\u001b[0m\u001b[0mwith_traceback\u001b[0m\u001b[0;34m(\u001b[0m\u001b[0mfiltered_tb\u001b[0m\u001b[0;34m)\u001b[0m \u001b[0;32mfrom\u001b[0m \u001b[0;32mNone\u001b[0m\u001b[0;34m\u001b[0m\u001b[0;34m\u001b[0m\u001b[0m\n\u001b[0m\u001b[1;32m     71\u001b[0m         \u001b[0;32mfinally\u001b[0m\u001b[0;34m:\u001b[0m\u001b[0;34m\u001b[0m\u001b[0;34m\u001b[0m\u001b[0m\n\u001b[1;32m     72\u001b[0m             \u001b[0;32mdel\u001b[0m \u001b[0mfiltered_tb\u001b[0m\u001b[0;34m\u001b[0m\u001b[0;34m\u001b[0m\u001b[0m\n",
            "\u001b[0;32m/usr/local/lib/python3.10/dist-packages/tensorflow/python/eager/execute.py\u001b[0m in \u001b[0;36mquick_execute\u001b[0;34m(op_name, num_outputs, inputs, attrs, ctx, name)\u001b[0m\n\u001b[1;32m     51\u001b[0m   \u001b[0;32mtry\u001b[0m\u001b[0;34m:\u001b[0m\u001b[0;34m\u001b[0m\u001b[0;34m\u001b[0m\u001b[0m\n\u001b[1;32m     52\u001b[0m     \u001b[0mctx\u001b[0m\u001b[0;34m.\u001b[0m\u001b[0mensure_initialized\u001b[0m\u001b[0;34m(\u001b[0m\u001b[0;34m)\u001b[0m\u001b[0;34m\u001b[0m\u001b[0;34m\u001b[0m\u001b[0m\n\u001b[0;32m---> 53\u001b[0;31m     tensors = pywrap_tfe.TFE_Py_Execute(ctx._handle, device_name, op_name,\n\u001b[0m\u001b[1;32m     54\u001b[0m                                         inputs, attrs, num_outputs)\n\u001b[1;32m     55\u001b[0m   \u001b[0;32mexcept\u001b[0m \u001b[0mcore\u001b[0m\u001b[0;34m.\u001b[0m\u001b[0m_NotOkStatusException\u001b[0m \u001b[0;32mas\u001b[0m \u001b[0me\u001b[0m\u001b[0;34m:\u001b[0m\u001b[0;34m\u001b[0m\u001b[0;34m\u001b[0m\u001b[0m\n",
            "\u001b[0;31mInvalidArgumentError\u001b[0m: Graph execution error:\n\nDetected at node resnet50/conv1_pad/Pad defined at (most recent call last):\n  File \"/usr/lib/python3.10/runpy.py\", line 196, in _run_module_as_main\n\n  File \"/usr/lib/python3.10/runpy.py\", line 86, in _run_code\n\n  File \"/usr/local/lib/python3.10/dist-packages/colab_kernel_launcher.py\", line 37, in <module>\n\n  File \"/usr/local/lib/python3.10/dist-packages/traitlets/config/application.py\", line 992, in launch_instance\n\n  File \"/usr/local/lib/python3.10/dist-packages/ipykernel/kernelapp.py\", line 619, in start\n\n  File \"/usr/local/lib/python3.10/dist-packages/tornado/platform/asyncio.py\", line 195, in start\n\n  File \"/usr/lib/python3.10/asyncio/base_events.py\", line 603, in run_forever\n\n  File \"/usr/lib/python3.10/asyncio/base_events.py\", line 1909, in _run_once\n\n  File \"/usr/lib/python3.10/asyncio/events.py\", line 80, in _run\n\n  File \"<ipython-input-35-3d12709c5dbc>\", line 25, in main\n\n  File \"<ipython-input-8-da93dc054bb5>\", line 37, in get_image_similarity_by_urls_compare\n\n  File \"<ipython-input-2-6317a06bfa54>\", line 45, in extract_features\n\n  File \"/usr/local/lib/python3.10/dist-packages/keras/src/utils/traceback_utils.py\", line 65, in error_handler\n\n  File \"/usr/local/lib/python3.10/dist-packages/keras/src/engine/training.py\", line 2655, in predict\n\n  File \"/usr/local/lib/python3.10/dist-packages/keras/src/engine/training.py\", line 2440, in predict_function\n\n  File \"/usr/local/lib/python3.10/dist-packages/keras/src/engine/training.py\", line 2425, in step_function\n\n  File \"/usr/local/lib/python3.10/dist-packages/keras/src/engine/training.py\", line 2413, in run_step\n\n  File \"/usr/local/lib/python3.10/dist-packages/keras/src/engine/training.py\", line 2381, in predict_step\n\n  File \"/usr/local/lib/python3.10/dist-packages/keras/src/utils/traceback_utils.py\", line 65, in error_handler\n\n  File \"/usr/local/lib/python3.10/dist-packages/keras/src/engine/training.py\", line 590, in __call__\n\n  File \"/usr/local/lib/python3.10/dist-packages/keras/src/utils/traceback_utils.py\", line 65, in error_handler\n\n  File \"/usr/local/lib/python3.10/dist-packages/keras/src/engine/base_layer.py\", line 1149, in __call__\n\n  File \"/usr/local/lib/python3.10/dist-packages/keras/src/utils/traceback_utils.py\", line 96, in error_handler\n\n  File \"/usr/local/lib/python3.10/dist-packages/keras/src/engine/functional.py\", line 515, in call\n\n  File \"/usr/local/lib/python3.10/dist-packages/keras/src/engine/functional.py\", line 672, in _run_internal_graph\n\n  File \"/usr/local/lib/python3.10/dist-packages/keras/src/utils/traceback_utils.py\", line 65, in error_handler\n\n  File \"/usr/local/lib/python3.10/dist-packages/keras/src/engine/base_layer.py\", line 1149, in __call__\n\n  File \"/usr/local/lib/python3.10/dist-packages/keras/src/utils/traceback_utils.py\", line 96, in error_handler\n\n  File \"/usr/local/lib/python3.10/dist-packages/keras/src/layers/reshaping/zero_padding2d.py\", line 149, in call\n\n  File \"/usr/local/lib/python3.10/dist-packages/keras/src/backend.py\", line 4039, in spatial_2d_padding\n\nThe first dimension of paddings must be the rank of inputs[4,2] [1,224,224,1,3]\n\t [[{{node resnet50/conv1_pad/Pad}}]] [Op:__inference_predict_function_118157]"
          ]
        },
        {
          "output_type": "display_data",
          "data": {
            "text/plain": [
              "<Figure size 640x480 with 1 Axes>"
            ],
            "image/png": "[encoded data removed]"
          },
          "metadata": {}
        }
      ]
    },
    {
      "cell_type": "markdown",
      "source": [
        "# New section"
      ],
      "metadata": {
        "id": "nPcNv_dqckAr"
      }
    },
    {
      "cell_type": "code",
      "source": [],
      "metadata": {
        "id": "H4jYuTJQbWo_"
      },
      "execution_count": null,
      "outputs": []
    }
  ]
}